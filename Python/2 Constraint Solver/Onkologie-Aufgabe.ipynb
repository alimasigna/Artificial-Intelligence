{
 "cells": [
  {
   "cell_type": "code",
   "execution_count": 2,
   "metadata": {},
   "outputs": [
    {
     "data": {
      "text/html": [
       "<link href='http://fonts.googleapis.com/css?family=Alegreya+Sans:100,300,400,500,700,800,900,100italic,300italic,400italic,500italic,700italic,800italic,900italic' rel='stylesheet' type='text/css'>\n",
       "<link href='http://fonts.googleapis.com/css?family=Arvo:400,700,400italic' rel='stylesheet' type='text/css'>\n",
       "<link href='http://fonts.googleapis.com/css?family=PT+Mono' rel='stylesheet' type='text/css'>\n",
       "<link href='http://fonts.googleapis.com/css?family=Shadows+Into+Light' rel='stylesheet' type='text/css'>\n",
       "<link href='http://fonts.googleapis.com/css?family=Philosopher:400,700,400italic,700italic' rel='stylesheet' type='text/css'>\n",
       "<link href=\"http://fonts.googleapis.com/css?family=Sacramento\" rel=\"stylesheet\" type=\"text/css\">\n",
       "\n",
       "<style>\n",
       "\n",
       "@font-face {\n",
       "    font-family: \"Computer Modern\";\n",
       "    src: url('http://mirrors.ctan.org/fonts/cm-unicode/fonts/otf/cmunss.otf');\n",
       "}\n",
       "\n",
       ".container { width: 100% }\n",
       "\n",
       "/* Formatting for header cells */\n",
       ".text_cell_render h1 {\n",
       "    font-family: 'Philosopher', sans-serif;\n",
       "    font-weight: 400;\n",
       "    font-size: 2.2em;\n",
       "    line-height: 100%;\n",
       "    color: rgb(0, 80, 120);\n",
       "    margin-bottom: 0.1em;\n",
       "    margin-top: 0.1em;\n",
       "    display: block;\n",
       "}\t\n",
       ".text_cell_render h2 {\n",
       "    font-family: 'Philosopher', serif;\n",
       "    font-weight: 400;\n",
       "    font-size: 1.9em;\n",
       "    line-height: 100%;\n",
       "    color: rgb(200,100,0);\n",
       "    margin-bottom: 0.1em;\n",
       "    margin-top: 0.1em;\n",
       "    display: block;\n",
       "}\t\n",
       "\n",
       ".text_cell_render h3 {\n",
       "    font-family: 'Philosopher', serif;\n",
       "    margin-top:12px;\n",
       "    margin-bottom: 3px;\n",
       "    font-style: italic;\n",
       "    color: rgb(94,127,192);\n",
       "}\n",
       "\n",
       ".text_cell_render h4 {\n",
       "    font-family: 'Philosopher', serif;\n",
       "}\n",
       "\n",
       ".text_cell_render h5 {\n",
       "    font-family: 'Alegreya Sans', sans-serif;\n",
       "    font-weight: 300;\n",
       "    font-size: 16pt;\n",
       "    color: grey;\n",
       "    font-style: italic;\n",
       "    margin-bottom: .1em;\n",
       "    margin-top: 0.1em;\n",
       "    display: block;\n",
       "}\n",
       "\n",
       ".text_cell_render h6 {\n",
       "    font-family: 'PT Mono', sans-serif;\n",
       "    font-weight: 300;\n",
       "    font-size: 10pt;\n",
       "    color: grey;\n",
       "    margin-bottom: 1px;\n",
       "    margin-top: 1px;\n",
       "}\n",
       "\n",
       ".text_cell_render em {\n",
       "    font-family: 'Philosopher', sans-serif;\n",
       "    color:        blue;\n",
       "    background-color: rgb(255,220,180);\n",
       "    font-size:    110%;\n",
       "    margin-left:   2px;\n",
       "    margin-right:  2px;\n",
       "    font-weight:   100;\n",
       "}\n",
       "\n",
       ".text_cell_render b {\n",
       "    color:            rgb(255,195,195);\n",
       "    background-color: rgb(0,0,0);\n",
       "    font-size:    110%;\n",
       "    margin-left:   2px;\n",
       "    margin-right:  2px;\n",
       "    font-weight:   650;\n",
       "}\n",
       "\n",
       ".text_cell_render u {\n",
       "    color:            blue;\n",
       "    font-size:    110%;\n",
       "    margin-left:   2px;\n",
       "    margin-right:  2px;\n",
       "    font-weight:   650;\n",
       "}\n",
       "\n",
       ".text_cell_render tt {\n",
       "    font-size:    120%;\n",
       "    margin-left:   2px;\n",
       "    margin-right:  2px;\n",
       "    font-weight:   150;\n",
       "}\n",
       "\n",
       ".Codemirror {\n",
       "    font-family: \"PT Mono\";\n",
       "    font-size: 100%;\n",
       "}\n",
       "\n",
       "#fancy {\n",
       "    font-family:      Georgia;\n",
       "    position:         relative;\n",
       "    float:            left;\n",
       "    border:           2px solid red;\n",
       "    width:            600px;\n",
       "    padding-left:     20px;\n",
       "    padding-right:    20px;\n",
       "    padding-top:      10px;\n",
       "    font-family:      'Sacramento', cursive;\n",
       "    font-size:        26px;\n",
       "    background-color: #F4EBF3;\n",
       "    border-radius:    15px;\n",
       "}\n",
       "\n",
       "</Style>\n",
       "\n"
      ],
      "text/plain": [
       "<IPython.core.display.HTML object>"
      ]
     },
     "execution_count": 2,
     "metadata": {},
     "output_type": "execute_result"
    }
   ],
   "source": [
    "from IPython.core.display import HTML\n",
    "with open('../style.css', 'r') as file:\n",
    "    css = file.read()\n",
    "HTML(css)"
   ]
  },
  {
   "cell_type": "markdown",
   "metadata": {},
   "source": [
    "# Die Onkologie-Station"
   ]
  },
  {
   "cell_type": "markdown",
   "metadata": {},
   "source": [
    "Auf einer Onkologie-Station liegen fünf Patienten in nebeneinander liegenden Zimmern.\n",
    "Bis auf einen  der Patienten hat jeder genau eine Zigaretten-Marke geraucht.\n",
    "Der Patient, der nicht Zigarette geraucht hat, hat Pfeife geraucht.\n",
    "Jeder Patient fährt genau ein Auto und ist\n",
    "an genau einer Krebs-Art erkrankt.  Zusätzlich haben Sie die folgenden Informationen:\n",
    "<ol>\n",
    "<li> Im Zimmer neben Michael wird Camel geraucht. </li>\n",
    "<li> Der Trabant-Fahrer raucht Ernte 23 und liegt im Zimmer neben dem \n",
    "      Zungen-Krebs Patienten. </li>\n",
    "<li> Rolf liegt im letzten Zimmer und hat Kehlkopf-Krebs. </li>\n",
    "<li> Der West-Raucher liegt im ersten Zimmer. </li>\n",
    "<li> Der Mazda-Fahrer hat Zungen-Krebs und liegt neben dem Trabant-Fahrer. </li>\n",
    "<li> Der Nissan-Fahrer liegt neben dem Zungen-Krebs Patient. </li>\n",
    "<li> Rudolf bettelt um Sterbe-Hilfe und liegt zwischen dem Camel-Raucher und dem Trabant-Fahrer. </li>\n",
    "<li> Der Seat Fahrer hat morgen seinen letzten Geburtstag. </li>\n",
    "<li> Der Luckies Raucher liegt neben dem Patienten mit Lungen-Krebs. </li>\n",
    "<li> Der Camel Raucher liegt neben dem Patienten mit Darm-Krebs. </li>\n",
    "<li> Der Nissan Fahrer liegt neben dem Mazda-Fahrer. </li>\n",
    "<li> Der Mercedes-Fahrer raucht Pfeife und liegt neben dem Camel Raucher. </li>\n",
    "<li> Jens liegt neben dem Luckies Raucher. </li>\n",
    "<li> Der Hodenkrebs-Patient hat gestern seine Eier durchs Klo gespült. </li>\n",
    "</ol>\n",
    "Mit dieser Information können die beiden folgenden Fragen beantwortet werden.\n",
    "<ol> \n",
    "<li> Was raucht der Darmkrebs-Patient? </li>\n",
    "<li> Was fährt Kurt für ein Auto? </li>\n",
    "</ol>"
   ]
  },
  {
   "cell_type": "markdown",
   "metadata": {},
   "source": [
    "## Aufgabe"
   ]
  },
  {
   "cell_type": "markdown",
   "metadata": {},
   "source": [
    "Formulieren Sie das oben beschrieben Rätsel als CSP und lösen Sie es mit Hilfe des Backtracking-Solvers, der in dem Notebook `Backtrack-Solver.ipynb` implementiert ist. "
   ]
  },
  {
   "cell_type": "code",
   "execution_count": 3,
   "metadata": {},
   "outputs": [],
   "source": [
    "def allDifferent(Variables: set[str]) -> set[str]:\n",
    "    return { f'{x} != {y}' for x in Variables\n",
    "                           for y in Variables \n",
    "                           if x < y \n",
    "           }"
   ]
  },
  {
   "cell_type": "code",
   "execution_count": 4,
   "metadata": {},
   "outputs": [],
   "source": [
    "gCars = {'Trabant', 'Mazda', 'Nissan', 'Seat', 'Mercedes'}\n",
    "gTabak = {'Pfeife', 'West', 'Camel', 'Luckies', 'Ernte23'}\n",
    "gCancer = {'Zungen-Krebs', 'Lungen-Krebs', 'Hoden-Krebs', 'Kehlkopf-Krebs', 'Darm-Krebs'}\n",
    "gNames = {'Kurt', 'Michael', 'Rudolf', 'Jens', 'Rolf'}\n",
    "gRoomNumber = {'1', '2', '3', '4', '5'}"
   ]
  },
  {
   "cell_type": "code",
   "execution_count": 5,
   "metadata": {},
   "outputs": [],
   "source": [
    "CSP = tuple[set[str] | list[str], set[int], set[str]]"
   ]
  },
  {
   "cell_type": "code",
   "execution_count": 6,
   "metadata": {},
   "outputs": [],
   "source": [
    "def onkologie_csp() -> CSP: \n",
    "    Variables = gCars | gTabak | gCancer | gNames | gRoomNumber\n",
    "    Values    = { 1, 2, 3, 4, 5 }\n",
    "    Constraints = { 'abs(Camel - Michael) == 1',\n",
    "                    'Trabant       == Ernte23',\n",
    "                    'abs(Trabant - Zungen-Krebs) == 1',\n",
    "                    'Rolf       == Kehlkopf-Krebs',\n",
    "                    'Rolf == 5',\n",
    "                    'West == 1',\n",
    "                    'Mazda        == Zungen-Krebs', \n",
    "                    'abs(Mazda - Trabant) == 1',\n",
    "                    'abs(Nissan - Zungen-Krebs) == 1',\n",
    "                    'abs(Rudolf - Camel) == 1',\n",
    "                    'abs(Rudolf - Trabant) == 1',\n",
    "                    'abs(Luckies - Lungen-Krebs) == 1',\n",
    "                    'abs(Camel - Darm-Krebs) == 1',\n",
    "                    'abs(Nissan - Mazda) == 1',\n",
    "                    'Mercedes == Pfeife',\n",
    "                    'abs(Mercedes - Camel) == 1',\n",
    "                    'abs(Jens - Luckies) == 1'\n",
    "                  }\n",
    "    Constraints |= allDifferent(gCars)\n",
    "    Constraints |= allDifferent(gTabak)\n",
    "    Constraints |= allDifferent(gCancer)\n",
    "    Constraints |= allDifferent(gNames)\n",
    "    Constraints |= allDifferent(gRoomNumber)\n",
    "    return (Variables, Values, Constraints)"
   ]
  },
  {
   "cell_type": "code",
   "execution_count": null,
   "metadata": {},
   "outputs": [],
   "source": []
  },
  {
   "cell_type": "code",
   "execution_count": 7,
   "metadata": {},
   "outputs": [],
   "source": [
    "from typing import TypeVar"
   ]
  },
  {
   "cell_type": "code",
   "execution_count": 8,
   "metadata": {},
   "outputs": [],
   "source": [
    "Value      = TypeVar('Value')\n",
    "Element    = TypeVar('Element')\n",
    "Variable   = str\n",
    "Formula    = str\n",
    "CSP        = tuple[set[Variable] | list[Variable], set[Value], set[Formula]]\n",
    "ACSP       = tuple[set[Variable] | list[Variable], set[Value], list[tuple[Formula, set[Variable]]]]\n",
    "Assignment = dict[Variable, Value]"
   ]
  },
  {
   "cell_type": "code",
   "execution_count": 9,
   "metadata": {},
   "outputs": [],
   "source": [
    "def solve(P:            CSP, \n",
    "          debug:        bool=False, \n",
    "          animate:      bool=False, \n",
    "          problem_size: int|None=None) -> Assignment | None:\n",
    "    Variables, Values, Constraints = P\n",
    "    csp = (Variables, Values, [(f, collect_variables(f)) for f in Constraints])\n",
    "    return backtrack_search({}, csp, debug, animate, problem_size)"
   ]
  },
  {
   "cell_type": "code",
   "execution_count": 10,
   "metadata": {},
   "outputs": [],
   "source": [
    "def backtrack_search(Assgnmnt:     Assignment,\n",
    "                     P:            ACSP, \n",
    "                     debug:        bool, \n",
    "                     animate:      bool, \n",
    "                     problem_size: int | None) -> Assignment | None:\n",
    "    if debug and not animate:\n",
    "        print(Assgnmnt)\n",
    "    if animate:\n",
    "        if problem_size == None:\n",
    "            display(show_solution(Assgnmnt, width=\"50%\")) # type: ignore\n",
    "        else: \n",
    "            display(show_solution(Assgnmnt, problem_size, width=\"50%\")) # type: ignore\n",
    "    Variables, Values, Constraints = P\n",
    "    if len(Assgnmnt) == len(Variables):\n",
    "        return Assgnmnt\n",
    "    if isinstance(Variables, set):\n",
    "        var = arb(Variables - Assgnmnt.keys())\n",
    "    else: # if Variables is a list we choose the first unassigned variable\n",
    "        var = [x for x in Variables if x not in Assgnmnt][0]\n",
    "    for value in Values:\n",
    "        if is_consistent(var, value, Assgnmnt, Constraints):\n",
    "            NewAss = Assgnmnt.copy()\n",
    "            NewAss[var] = value\n",
    "            Solution = backtrack_search(NewAss, P, debug, animate, problem_size)\n",
    "            if Solution != None:\n",
    "                return Solution\n",
    "    return None"
   ]
  },
  {
   "cell_type": "code",
   "execution_count": 11,
   "metadata": {},
   "outputs": [],
   "source": [
    "def is_consistent(var:         Variable, \n",
    "                  value:       Value, \n",
    "                  Assgnmnt:    Assignment, \n",
    "                  Constraints: list[tuple[Formula, set[Variable]]]) -> bool:\n",
    "    NewAssign      = Assgnmnt.copy()\n",
    "    NewAssign[var] = value\n",
    "    return all(eval(f, NewAssign) for (f, Vs) in Constraints\n",
    "                                  if  var in Vs and Vs <= NewAssign.keys()\n",
    "              )"
   ]
  },
  {
   "cell_type": "code",
   "execution_count": 12,
   "metadata": {},
   "outputs": [],
   "source": [
    "import ast"
   ]
  },
  {
   "cell_type": "code",
   "execution_count": 13,
   "metadata": {},
   "outputs": [],
   "source": [
    "def collect_variables(expression: Formula) -> set[Variable]: \n",
    "    tree = ast.parse(expression)\n",
    "    return { node.id for node in ast.walk(tree) \n",
    "                     if  isinstance(node, ast.Name) \n",
    "                     if  node.id not in dir(__builtins__)\n",
    "           }"
   ]
  },
  {
   "cell_type": "code",
   "execution_count": null,
   "metadata": {},
   "outputs": [],
   "source": []
  },
  {
   "cell_type": "code",
   "execution_count": 14,
   "metadata": {},
   "outputs": [],
   "source": [
    "def arb(S: set[Element]) -> Element:\n",
    "    for x in S:\n",
    "        return x\n",
    "    return None # type: ignore"
   ]
  },
  {
   "cell_type": "code",
   "execution_count": null,
   "metadata": {},
   "outputs": [],
   "source": [
    "onkologie = onkologie_csp()"
   ]
  },
  {
   "cell_type": "code",
   "execution_count": null,
   "metadata": {},
   "outputs": [],
   "source": [
    "%%time\n",
    "Solution = solve(onkologie)"
   ]
  },
  {
   "cell_type": "code",
   "execution_count": null,
   "metadata": {},
   "outputs": [],
   "source": [
    "def show_solution(Solution: dict[str, set[int]]) -> None:\n",
    "    result  = '<table style=\"border:2px solid blue\">\\n'\n",
    "    result += '<tr>'\n",
    "    for name in ['Name', 'Room',  'Krebs', 'Auto', 'Brand']:\n",
    "        result += '<th style=\"color:gold; background-color:blue\">' + name + '</th>'\n",
    "    result += '</tr>\\n'\n",
    "    for chair in range(1, 5+1):\n",
    "        result += '<tr><td style=\"border:1px solid green\">' + str(chair) + '</td>'\n",
    "        for Class in [gNames, gCancer, gTabak, gCars, gRoomNumber]:\n",
    "            for x in Class:\n",
    "                if Solution[x] == chair:\n",
    "                    result += '<td  style=\"border:1px solid green\">' + x + '</td>'\n",
    "        result += '</tr>\\n'\n",
    "    result += '</table>'\n",
    "    display(HTML(result)) # type: ignore"
   ]
  },
  {
   "cell_type": "code",
   "execution_count": null,
   "metadata": {},
   "outputs": [],
   "source": [
    "show_solution(Solution)"
   ]
  },
  {
   "cell_type": "code",
   "execution_count": null,
   "metadata": {},
   "outputs": [],
   "source": []
  }
 ],
 "metadata": {
  "hide_input": false,
  "kernelspec": {
   "display_name": "Python 3 (ipykernel)",
   "language": "python",
   "name": "python3"
  },
  "language_info": {
   "codemirror_mode": {
    "name": "ipython",
    "version": 3
   },
   "file_extension": ".py",
   "mimetype": "text/x-python",
   "name": "python",
   "nbconvert_exporter": "python",
   "pygments_lexer": "ipython3",
   "version": "3.11.7"
  },
  "toc": {
   "base_numbering": 1,
   "nav_menu": {},
   "number_sections": true,
   "sideBar": true,
   "skip_h1_title": false,
   "title_cell": "Table of Contents",
   "title_sidebar": "Contents",
   "toc_cell": false,
   "toc_position": {},
   "toc_section_display": true,
   "toc_window_display": false
  },
  "varInspector": {
   "cols": {
    "lenName": 16,
    "lenType": 16,
    "lenVar": 40
   },
   "kernels_config": {
    "python": {
     "delete_cmd_postfix": "",
     "delete_cmd_prefix": "del ",
     "library": "var_list.py",
     "varRefreshCmd": "print(var_dic_list())"
    },
    "r": {
     "delete_cmd_postfix": ") ",
     "delete_cmd_prefix": "rm(",
     "library": "var_list.r",
     "varRefreshCmd": "cat(var_dic_list()) "
    }
   },
   "types_to_exclude": [
    "module",
    "function",
    "builtin_function_or_method",
    "instance",
    "_Feature"
   ],
   "window_display": false
  }
 },
 "nbformat": 4,
 "nbformat_minor": 2
}
