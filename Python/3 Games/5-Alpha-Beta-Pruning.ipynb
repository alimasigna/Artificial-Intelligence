{
 "cells": [
  {
   "cell_type": "code",
   "execution_count": 1,
   "metadata": {},
   "outputs": [
    {
     "data": {
      "text/html": [
       "<link href='http://fonts.googleapis.com/css?family=Alegreya+Sans:100,300,400,500,700,800,900,100italic,300italic,400italic,500italic,700italic,800italic,900italic' rel='stylesheet' type='text/css'>\n",
       "<link href='http://fonts.googleapis.com/css?family=Arvo:400,700,400italic' rel='stylesheet' type='text/css'>\n",
       "<link href='http://fonts.googleapis.com/css?family=PT+Mono' rel='stylesheet' type='text/css'>\n",
       "<link href='http://fonts.googleapis.com/css?family=Shadows+Into+Light' rel='stylesheet' type='text/css'>\n",
       "<link href='http://fonts.googleapis.com/css?family=Philosopher:400,700,400italic,700italic' rel='stylesheet' type='text/css'>\n",
       "<link href=\"http://fonts.googleapis.com/css?family=Sacramento\" rel=\"stylesheet\" type=\"text/css\">\n",
       "\n",
       "<style>\n",
       "\n",
       "@font-face {\n",
       "    font-family: \"Computer Modern\";\n",
       "    src: url('http://mirrors.ctan.org/fonts/cm-unicode/fonts/otf/cmunss.otf');\n",
       "}\n",
       "\n",
       ".container { width: 100% }\n",
       "\n",
       "/* Formatting for header cells */\n",
       ".text_cell_render h1 {\n",
       "    font-family: 'Philosopher', sans-serif;\n",
       "    font-weight: 400;\n",
       "    font-size: 2.2em;\n",
       "    line-height: 100%;\n",
       "    color: rgb(0, 80, 120);\n",
       "    margin-bottom: 0.1em;\n",
       "    margin-top: 0.1em;\n",
       "    display: block;\n",
       "}\t\n",
       ".text_cell_render h2 {\n",
       "    font-family: 'Philosopher', serif;\n",
       "    font-weight: 400;\n",
       "    font-size: 1.9em;\n",
       "    line-height: 100%;\n",
       "    color: rgb(200,100,0);\n",
       "    margin-bottom: 0.1em;\n",
       "    margin-top: 0.1em;\n",
       "    display: block;\n",
       "}\t\n",
       "\n",
       ".text_cell_render h3 {\n",
       "    font-family: 'Philosopher', serif;\n",
       "    margin-top:12px;\n",
       "    margin-bottom: 3px;\n",
       "    font-style: italic;\n",
       "    color: rgb(94,127,192);\n",
       "}\n",
       "\n",
       ".text_cell_render h4 {\n",
       "    font-family: 'Philosopher', serif;\n",
       "}\n",
       "\n",
       ".text_cell_render h5 {\n",
       "    font-family: 'Alegreya Sans', sans-serif;\n",
       "    font-weight: 300;\n",
       "    font-size: 16pt;\n",
       "    color: grey;\n",
       "    font-style: italic;\n",
       "    margin-bottom: .1em;\n",
       "    margin-top: 0.1em;\n",
       "    display: block;\n",
       "}\n",
       "\n",
       ".text_cell_render h6 {\n",
       "    font-family: 'PT Mono', sans-serif;\n",
       "    font-weight: 300;\n",
       "    font-size: 10pt;\n",
       "    color: grey;\n",
       "    margin-bottom: 1px;\n",
       "    margin-top: 1px;\n",
       "}\n",
       "\n",
       ".text_cell_render em {\n",
       "    font-family: 'Philosopher', sans-serif;\n",
       "    color:        blue;\n",
       "    background-color: rgb(255,220,180);\n",
       "    font-size:    110%;\n",
       "    margin-left:   2px;\n",
       "    margin-right:  2px;\n",
       "    font-weight:   100;\n",
       "}\n",
       "\n",
       ".text_cell_render b {\n",
       "    color:            rgb(255,195,195);\n",
       "    background-color: rgb(0,0,0);\n",
       "    font-size:    110%;\n",
       "    margin-left:   2px;\n",
       "    margin-right:  2px;\n",
       "    font-weight:   650;\n",
       "}\n",
       "\n",
       ".text_cell_render u {\n",
       "    color:            blue;\n",
       "    font-size:    110%;\n",
       "    margin-left:   2px;\n",
       "    margin-right:  2px;\n",
       "    font-weight:   650;\n",
       "}\n",
       "\n",
       ".text_cell_render tt {\n",
       "    font-size:    120%;\n",
       "    margin-left:   2px;\n",
       "    margin-right:  2px;\n",
       "    font-weight:   150;\n",
       "}\n",
       "\n",
       ".Codemirror {\n",
       "    font-family: \"PT Mono\";\n",
       "    font-size: 100%;\n",
       "}\n",
       "\n",
       "#fancy {\n",
       "    font-family:      Georgia;\n",
       "    position:         relative;\n",
       "    float:            left;\n",
       "    border:           2px solid red;\n",
       "    width:            600px;\n",
       "    padding-left:     20px;\n",
       "    padding-right:    20px;\n",
       "    padding-top:      10px;\n",
       "    font-family:      'Sacramento', cursive;\n",
       "    font-size:        26px;\n",
       "    background-color: #F4EBF3;\n",
       "    border-radius:    15px;\n",
       "}\n",
       "\n",
       "</Style>\n",
       "\n"
      ],
      "text/plain": [
       "<IPython.core.display.HTML object>"
      ]
     },
     "execution_count": 1,
     "metadata": {},
     "output_type": "execute_result"
    }
   ],
   "source": [
    "from IPython.core.display import HTML\n",
    "with open('../style.css') as f:\n",
    "    css = f.read()\n",
    "HTML(css)"
   ]
  },
  {
   "cell_type": "code",
   "execution_count": 2,
   "metadata": {},
   "outputs": [
    {
     "name": "stderr",
     "output_type": "stream",
     "text": [
      "Version 1.0.5\n"
     ]
    }
   ],
   "source": [
    "%load_ext nb_mypy"
   ]
  },
  {
   "cell_type": "code",
   "execution_count": 3,
   "metadata": {},
   "outputs": [],
   "source": [
    "from typing import TypeVar"
   ]
  },
  {
   "cell_type": "markdown",
   "metadata": {},
   "source": [
    "# Alpha-Beta Pruning\n",
    "\n",
    "This notebook implements [alpha-beta pruning](https://en.wikipedia.org/wiki/Alpha-beta_pruning). *Memoization techniques* are only added in a naive way since adding these techniques in a sophisticated way results in an algorithm that is quite complicated.  Therefore, this topic is\n",
    "discussed in a separate notebook.\n",
    "\n",
    "Effectively, this notebook is a *game solver* because it can be used to play various deterministic, zero-sum, two-person games with perfect information.  To this end, the implementation assumes that an external notebook defines a game and provides the following variables and functions:\n",
    "* `gPlayers` is a list of length two.  The elements of this list are the \n",
    "  players.  It is assumed that the first element in this list represents \n",
    "  the computer, while the second element is the human player.  The computer\n",
    "  always starts the game.\n",
    "* `gStart` is the start state of the game.\n",
    "* `next_states(state, player)` is a function that takes two arguments:\n",
    "  - `state` is a state of the game.\n",
    "  - `player` is the player whose turn it is to make a move.\n",
    "  The function call `next_states(state, player)` returns the list\n",
    "  of all states that can be reached by any move of `player`.\n",
    "* `utility(state)` takes a `state` and a `player` as its arguments.\n",
    "  If `state` is a *terminal state*, then the function returns the value\n",
    "  that this `state` has for the player who starts the game.  Otherwise, the function returns `None`.\n",
    "* `finished(state)` returns `True` if and only if `state` is a terminal state.\n",
    "* `get_move(state)` displays the given state and asks the human player for\n",
    "  her move.\n",
    "* `final_msg(state)` informs the human player about the result of the game.\n",
    "* `draw(state, canvas, value)` draws the given state on the canvas and informs\n",
    "  the user about the `value` of this state. \n",
    "   \n",
    "---"
   ]
  },
  {
   "cell_type": "code",
   "execution_count": 4,
   "metadata": {},
   "outputs": [],
   "source": [
    "State = TypeVar('State')"
   ]
  },
  {
   "cell_type": "code",
   "execution_count": 5,
   "metadata": {},
   "outputs": [],
   "source": [
    "import ipycanvas as cnv"
   ]
  },
  {
   "cell_type": "code",
   "execution_count": 6,
   "metadata": {},
   "outputs": [],
   "source": [
    "gPlayers: list[str]\n",
    "    \n",
    "def next_states(S: State, player: str) -> list[State]: \n",
    "    return None # type: ignore\n",
    "\n",
    "def utility(S: State) -> int | None:\n",
    "    return None\n",
    "\n",
    "def finished(S: State) -> bool: \n",
    "    return None # type: ignore\n",
    "\n",
    "def get_move(S: State) -> State:\n",
    "    return None # type: ignore\n",
    "\n",
    "def final_msg(S: State) -> bool:\n",
    "    return None # type: ignore\n",
    "\n",
    "def toString(S: State) -> str:\n",
    "    return None # type: ignore\n",
    "\n",
    "def draw(S: State, canvas: cnv.canvas, value: str) -> None:\n",
    "    return None\n",
    "\n",
    "def alphaBetaMax(S: State, alpha: int, beta: int) -> int:\n",
    "    return None # type: ignore\n",
    "\n",
    "def alphaBetaMin(S: State, alpha: int, beta: int) -> int:\n",
    "    return None # type: ignore"
   ]
  },
  {
   "cell_type": "markdown",
   "metadata": {},
   "source": [
    "In order to have some variation in our game, we use random numbers to choose between optimal moves."
   ]
  },
  {
   "cell_type": "code",
   "execution_count": 7,
   "metadata": {},
   "outputs": [],
   "source": [
    "import random\n",
    "random.seed(0)"
   ]
  },
  {
   "cell_type": "markdown",
   "metadata": {},
   "source": [
    "The function `alphaBetaMax` takes three arguments:\n",
    "- `State` is the current state of the game,\n",
    "- `alpha` is a lower bound,\n",
    "- `beta` is an upper bound.\n",
    "\n",
    "The function `max_Value` returns the *value* that the given `State` has for the computer \n",
    "if both players play their optimal game.  This value is an element from the set $\\{-1, 0, 1\\}$.  \n",
    "- If the first player can force a win, the return value is `1`.\n",
    "- If the first player can at best force a draw, the return value is `0`.\n",
    "- If the second player can force a win, the return value is `-1`.\n",
    "\n",
    "Given that $\\texttt{value}(s)$ is the value of the state $s$, the function `alphaBetaMax` satisfies the following *specification*:\n",
    "- $\\alpha \\leq \\texttt{maxValue}(s) \\leq \\beta \\;\\rightarrow\\;\\texttt{alphaBetaMax}(s, \\alpha, \\beta) = \\texttt{maxValue}(s)$\n",
    "- $\\texttt{maxValue}(s) < \\alpha \\;\\rightarrow\\; \\texttt{alphaBetaMax}(s, \\alpha, \\beta) \\leq \\alpha$\n",
    "- $\\beta < \\texttt{maxValue}(s) \\;\\rightarrow\\; \\beta \\leq \\texttt{alphaBetaMax}(s, \\alpha, \\beta)$\n",
    "\n",
    "Note that this *specification* is not a *definition* of the function\n",
    "`alphaBetaMax` as there are many functions that satisfy this specification.  "
   ]
  },
  {
   "cell_type": "code",
   "execution_count": 8,
   "metadata": {},
   "outputs": [],
   "source": [
    "def alphaBetaMax(S: State, alpha: int, beta: int) -> int:\n",
    "    if finished(S):\n",
    "        return utility(S) # type: ignore\n",
    "    for ns in next_states(S, gPlayers[0]):\n",
    "        value = alphaBetaMin(ns, alpha, beta)\n",
    "        if value >= beta:\n",
    "            return value\n",
    "        alpha = max(alpha, value)\n",
    "    return alpha"
   ]
  },
  {
   "cell_type": "markdown",
   "metadata": {},
   "source": [
    "Given that $\\texttt{minValue}(s)$ is the value of the state $s$, the function `alphaBetaMin` satisfies the following specification:\n",
    "- $\\alpha \\leq \\texttt{minValue}(s) \\leq \\beta \\;\\rightarrow\\;\\texttt{alphaBetaMin}(s, \\alpha, \\beta) = \\texttt{minValue}(s)$\n",
    "- $\\texttt{minValue}(s) < \\alpha \\;\\rightarrow\\; \\texttt{alphaBetaMin}(s, \\alpha, \\beta) \\leq \\alpha$\n",
    "- $\\beta < \\texttt{minValue}(s) \\;\\rightarrow\\; \\beta \\leq \\texttt{alphaBetaMin}(s, \\alpha, \\beta)$"
   ]
  },
  {
   "cell_type": "code",
   "execution_count": 9,
   "metadata": {},
   "outputs": [],
   "source": [
    "def alphaBetaMin(S: State, alpha: int, beta: int) -> int:\n",
    "    if finished(S):\n",
    "        return utility(S) # type: ignore\n",
    "    for ns in next_states(S, gPlayers[1]):\n",
    "        value = alphaBetaMax(ns, alpha, beta)\n",
    "        if value <= alpha:\n",
    "            return value\n",
    "        beta = min(beta, value)\n",
    "    return beta"
   ]
  },
  {
   "cell_type": "markdown",
   "metadata": {},
   "source": [
    "The function `best_move` takes one argument:\n",
    "- `State` is the current state of the game.\n",
    "\n",
    "The function `best_move` returns a pair of the form $(v, s)$ where $s$ is a state and $v$ is the value of this state.  The state $s$ is a state that is reached from `State` if `player` makes one of her optimal moves.  In order to have some variation in the game, the function randomly chooses any of the optimal moves."
   ]
  },
  {
   "cell_type": "code",
   "execution_count": 10,
   "metadata": {},
   "outputs": [],
   "source": [
    "def best_move(S: State) -> tuple[int, State]:\n",
    "    NS        = next_states(S, gPlayers[0])\n",
    "    bestVal   = alphaBetaMax(S, -1, 1)\n",
    "    bestMoves = [s for s in NS if alphaBetaMin(s, -1, 1) == bestVal]\n",
    "    bestState = random.choice(bestMoves)\n",
    "    return bestVal, bestState"
   ]
  },
  {
   "cell_type": "markdown",
   "metadata": {},
   "source": [
    "The next line is needed because we need the function `IPython.display.clear_output` to clear the output in a cell."
   ]
  },
  {
   "cell_type": "code",
   "execution_count": 11,
   "metadata": {},
   "outputs": [],
   "source": [
    "import IPython.display "
   ]
  },
  {
   "cell_type": "markdown",
   "metadata": {},
   "source": [
    "The function `play_game` plays the game that is specified externally via the functions `next_states` and `utility`.  The states of the game are drawn on the given `canvas`. "
   ]
  },
  {
   "cell_type": "code",
   "execution_count": 12,
   "metadata": {},
   "outputs": [],
   "source": [
    "def play_game(canvas: cnv.canvas) -> None:\n",
    "    State = gStart # type: ignore\n",
    "    while (True):\n",
    "        val, State = best_move(State);\n",
    "        draw(State, canvas, f'For me, the game has the value {val}.')\n",
    "        if finished(State):\n",
    "            final_msg(State)\n",
    "            return\n",
    "        IPython.display.clear_output(wait=True)\n",
    "        State = get_move(State)\n",
    "        draw(State, canvas, '?')\n",
    "        if finished(State):\n",
    "            IPython.display.clear_output(wait=True)\n",
    "            final_msg(State)\n",
    "            break"
   ]
  },
  {
   "cell_type": "code",
   "execution_count": 13,
   "metadata": {},
   "outputs": [],
   "source": [
    "%%capture\n",
    "%run Nim-Frame.ipynb"
   ]
  },
  {
   "cell_type": "code",
   "execution_count": 14,
   "metadata": {},
   "outputs": [],
   "source": [
    "%%capture\n",
    "%run 2-Tic-Tac-Toe-Bitboard.ipynb"
   ]
  },
  {
   "cell_type": "code",
   "execution_count": 15,
   "metadata": {},
   "outputs": [],
   "source": [
    "%unload_ext nb_mypy"
   ]
  },
  {
   "cell_type": "markdown",
   "metadata": {},
   "source": [
    "If we use *$\\alpha$-$\\beta$ pruning*, computing the value of the `Start` state of *tic-tac-toe* takes about 52 ms.  This should be compared to the 0.6 seconds that the *minimax algorithm* needs for the bit-board implementation of *tic-tac-toe*."
   ]
  },
  {
   "cell_type": "code",
   "execution_count": 16,
   "metadata": {},
   "outputs": [
    {
     "name": "stdout",
     "output_type": "stream",
     "text": [
      "CPU times: total: 31.2 ms\n",
      "Wall time: 66.5 ms\n"
     ]
    },
    {
     "data": {
      "text/plain": [
       "0"
      ]
     },
     "execution_count": 16,
     "metadata": {},
     "output_type": "execute_result"
    }
   ],
   "source": [
    "%%time\n",
    "val = alphaBetaMax(gStart, -1, 1)\n",
    "val"
   ]
  },
  {
   "cell_type": "markdown",
   "metadata": {},
   "source": [
    "## Naive Memoization"
   ]
  },
  {
   "cell_type": "markdown",
   "metadata": {},
   "source": [
    "The implementation of `memoize` that is given below uses the fact that the functions `alphaBetaMax` and `alphaBetaMin` are never called with the same arguments.  Hence, we do not need to store the function `f`."
   ]
  },
  {
   "cell_type": "code",
   "execution_count": 17,
   "metadata": {},
   "outputs": [],
   "source": [
    "from typing import Callable, Any "
   ]
  },
  {
   "cell_type": "markdown",
   "metadata": {},
   "source": [
    "We define a generic type variable for the return type of an arbitrary function `f`."
   ]
  },
  {
   "cell_type": "code",
   "execution_count": 18,
   "metadata": {},
   "outputs": [],
   "source": [
    "R = TypeVar('R')"
   ]
  },
  {
   "cell_type": "markdown",
   "metadata": {},
   "source": [
    "We define a `Args` as the generic type variable for the arguments of an arbitrary function `f`."
   ]
  },
  {
   "cell_type": "code",
   "execution_count": 19,
   "metadata": {},
   "outputs": [],
   "source": [
    "Args = tuple[Any, ...]"
   ]
  },
  {
   "cell_type": "markdown",
   "metadata": {},
   "source": [
    "The keys of the dictionary `gCache`are the arguments,\n",
    "and the values are the results of those function calls."
   ]
  },
  {
   "cell_type": "code",
   "execution_count": 20,
   "metadata": {},
   "outputs": [],
   "source": [
    "gCache: dict[tuple[Callable[..., R], Args], R] = {}"
   ]
  },
  {
   "cell_type": "code",
   "execution_count": 21,
   "metadata": {},
   "outputs": [],
   "source": [
    "def memoize(f: Callable[..., R]) -> Callable[..., R]:\n",
    "    global gCache\n",
    "    \n",
    "    def f_memoized(*args: Any) -> R:\n",
    "        if args in gCache:\n",
    "            return gCache[args]\n",
    "        result = f(*args)\n",
    "        gCache[args] = result\n",
    "        return result\n",
    "    \n",
    "    return f_memoized"
   ]
  },
  {
   "cell_type": "code",
   "execution_count": 22,
   "metadata": {},
   "outputs": [],
   "source": [
    "alphaBetaMax = memoize(alphaBetaMax)\n",
    "alphaBetaMin = memoize(alphaBetaMin)"
   ]
  },
  {
   "cell_type": "code",
   "execution_count": 23,
   "metadata": {},
   "outputs": [
    {
     "name": "stdout",
     "output_type": "stream",
     "text": [
      "CPU times: total: 0 ns\n",
      "Wall time: 17 ms\n"
     ]
    },
    {
     "data": {
      "text/plain": [
       "0"
      ]
     },
     "execution_count": 23,
     "metadata": {},
     "output_type": "execute_result"
    }
   ],
   "source": [
    "%%time\n",
    "val = alphaBetaMax(gStart, -1, 1)\n",
    "val"
   ]
  },
  {
   "cell_type": "markdown",
   "metadata": {},
   "source": [
    "When we check the size of the cache we realize that there are many states which we don't have to evaluate any more."
   ]
  },
  {
   "cell_type": "code",
   "execution_count": 24,
   "metadata": {},
   "outputs": [
    {
     "data": {
      "text/plain": [
       "2747"
      ]
     },
     "execution_count": 24,
     "metadata": {},
     "output_type": "execute_result"
    }
   ],
   "source": [
    "len(gCache)"
   ]
  },
  {
   "cell_type": "markdown",
   "metadata": {},
   "source": [
    "Let's draw the board."
   ]
  },
  {
   "cell_type": "code",
   "execution_count": 25,
   "metadata": {
    "scrolled": false
   },
   "outputs": [
    {
     "data": {
      "application/vnd.jupyter.widget-view+json": {
       "model_id": "2e4301cea9da42dfa7b7c5393141fb13",
       "version_major": 2,
       "version_minor": 0
      },
      "text/plain": [
       "Canvas()"
      ]
     },
     "metadata": {},
     "output_type": "display_data"
    }
   ],
   "source": [
    "canvas = create_canvas()\n",
    "draw(gStart, canvas, val)"
   ]
  },
  {
   "cell_type": "markdown",
   "metadata": {},
   "source": [
    "Now its time to play.  In the input window that will pop up later, enter your move in the format \"`row, count`\".  Here `row` is the row that you choose.  The counting of the row  starts form 0. `count` is the number of matches that you want to take from the specified row. "
   ]
  },
  {
   "cell_type": "code",
   "execution_count": null,
   "metadata": {},
   "outputs": [],
   "source": [
    "play_game(canvas)"
   ]
  },
  {
   "cell_type": "code",
   "execution_count": null,
   "metadata": {},
   "outputs": [],
   "source": []
  }
 ],
 "metadata": {
  "kernelspec": {
   "display_name": "Python 3 (ipykernel)",
   "language": "python",
   "name": "python3"
  },
  "language_info": {
   "codemirror_mode": {
    "name": "ipython",
    "version": 3
   },
   "file_extension": ".py",
   "mimetype": "text/x-python",
   "name": "python",
   "nbconvert_exporter": "python",
   "pygments_lexer": "ipython3",
   "version": "3.11.7"
  },
  "toc": {
   "base_numbering": 1,
   "nav_menu": {},
   "number_sections": true,
   "sideBar": true,
   "skip_h1_title": false,
   "title_cell": "Table of Contents",
   "title_sidebar": "Contents",
   "toc_cell": false,
   "toc_position": {},
   "toc_section_display": true,
   "toc_window_display": false
  },
  "varInspector": {
   "cols": {
    "lenName": 16,
    "lenType": 16,
    "lenVar": 40
   },
   "kernels_config": {
    "python": {
     "delete_cmd_postfix": "",
     "delete_cmd_prefix": "del ",
     "library": "var_list.py",
     "varRefreshCmd": "print(var_dic_list())"
    },
    "r": {
     "delete_cmd_postfix": ") ",
     "delete_cmd_prefix": "rm(",
     "library": "var_list.r",
     "varRefreshCmd": "cat(var_dic_list()) "
    }
   },
   "types_to_exclude": [
    "module",
    "function",
    "builtin_function_or_method",
    "instance",
    "_Feature"
   ],
   "window_display": false
  }
 },
 "nbformat": 4,
 "nbformat_minor": 2
}
