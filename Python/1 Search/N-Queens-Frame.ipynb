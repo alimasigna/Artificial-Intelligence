{
 "cells": [
  {
   "cell_type": "code",
   "execution_count": null,
   "metadata": {
    "scrolled": true
   },
   "outputs": [],
   "source": [
    "from IPython.core.display import HTML\n",
    "with open('../../Python/style.css') as f:\n",
    "    css = f.read()\n",
    "HTML(css)"
   ]
  },
  {
   "cell_type": "markdown",
   "metadata": {},
   "source": [
    "# The 8-Queens Puzzle"
   ]
  },
  {
   "cell_type": "markdown",
   "metadata": {},
   "source": [
    "Solutions to the 8-queens puzzle are represented as tuples in the form:\n",
    "$$ (c_0, \\cdots, c_7), $$\n",
    "where each $c_i$ indicates the column of the queen in row $i$. Counting commences from $0$, in accordance with Python's indexing convention. Therefore, $c_0$ denotes the column of the queen in the first row, $c_1$ the column of the queen in the second row, and so forth.\n",
    "\n",
    "In a more general sense, states are defined as tuples of the form:\n",
    "$$ S = (c_0, \\cdots, c_{r-1}). $$\n",
    "In the state $S$, there are $r$ queens on the board, with the queen in the $i^\\textrm{th}$ row placed in column $c_i$, where counting starts from zero. The initial state, known as `start`, is denoted by the empty tuple."
   ]
  },
  {
   "cell_type": "code",
   "execution_count": 2,
   "metadata": {},
   "outputs": [],
   "source": [
    "State = tuple[int, ...]"
   ]
  },
  {
   "cell_type": "code",
   "execution_count": 3,
   "metadata": {},
   "outputs": [],
   "source": [
    "start: State = ()"
   ]
  },
  {
   "cell_type": "markdown",
   "metadata": {},
   "source": [
    "The function `next_states` accepts a tuple $S$ representing a current state and attempts to extend this tuple by adding another queen to the board. It then returns the set of all resulting states where the addition of the new queen does not lead to any conflict."
   ]
  },
  {
   "cell_type": "code",
   "execution_count": 6,
   "metadata": {},
   "outputs": [],
   "source": [
    "def next_states(S: State) -> set[State]:\n",
    "    conflicts = []\n",
    "    columnNewQueen = len(S)+1\n",
    "    for state in S:\n",
    "        conflicts.append(state)\n",
    "        index = S.index(state)\n",
    "        right = state+columnNewQueen-index+1\n",
    "        left = state-columnNewQueen-index+1\n",
    "        if left not in conflicts:\n",
    "            conflicts.append(left)\n",
    "        if right not in conflicts:\n",
    "            conflicts.append(right)\n",
    "    newState = random.randint(0,8)\n",
    "    while newState in conflicts:\n",
    "       newState = random.randint(0,8)\n",
    "    newTuple = S + newState\n",
    "    return newTuple"
   ]
  },
  {
   "cell_type": "markdown",
   "metadata": {},
   "source": [
    "# Depth First Search"
   ]
  },
  {
   "cell_type": "markdown",
   "metadata": {},
   "source": [
    "The global variable `gSolutions` is a list that accumulates all the solutions to the 8-Queens puzzle."
   ]
  },
  {
   "cell_type": "code",
   "execution_count": 7,
   "metadata": {},
   "outputs": [],
   "source": [
    "gSolutions: list[State] = []"
   ]
  },
  {
   "cell_type": "markdown",
   "metadata": {},
   "source": [
    "Develop a variant of *depth first search* tailored to identify **every** solution for the 8-queens puzzle.\n",
    "In this scenario, a specific `goal` is unnecessary since the objective is to enumerate all possible solutions.\n",
    "\n",
    "The `dfs` function receives a state $S$ as its initial parameter and proceeds to accumulate any viable solutions commencing from $S$ into the global variable `gSolutions`."
   ]
  },
  {
   "cell_type": "code",
   "execution_count": null,
   "metadata": {},
   "outputs": [],
   "source": [
    "def dfs(S: State) -> None:\n",
    "    \"your code here\""
   ]
  },
  {
   "cell_type": "code",
   "execution_count": null,
   "metadata": {},
   "outputs": [],
   "source": [
    "%%time\n",
    "dfs(start)"
   ]
  },
  {
   "cell_type": "code",
   "execution_count": null,
   "metadata": {},
   "outputs": [],
   "source": [
    "len(gSolutions)"
   ]
  },
  {
   "cell_type": "markdown",
   "metadata": {},
   "source": [
    "# Visualization"
   ]
  },
  {
   "cell_type": "markdown",
   "metadata": {},
   "source": [
    "For a more convenient visualization of the solution, it is necessary to install the `python-chess` library. Once the appropriate Python environment is activated, this can be accomplished by executing the command:\n",
    "```\n",
    "pip install python-chess\n",
    "```\n",
    "This installation can also be performed directly within a Jupyter notebook by executing the following cell. If the library is already installed, the install command will recognize this and terminate promptly."
   ]
  },
  {
   "cell_type": "code",
   "execution_count": null,
   "metadata": {},
   "outputs": [],
   "source": [
    "!pip install python-chess"
   ]
  },
  {
   "cell_type": "code",
   "execution_count": null,
   "metadata": {},
   "outputs": [],
   "source": [
    "import chess"
   ]
  },
  {
   "cell_type": "code",
   "execution_count": null,
   "metadata": {},
   "outputs": [],
   "source": [
    "from IPython.display import display"
   ]
  },
  {
   "cell_type": "markdown",
   "metadata": {},
   "source": [
    "The function `show_solution` accepts a solution, represented as a list of 8 integers, and visually displays it as a chessboard with 8 queens."
   ]
  },
  {
   "cell_type": "code",
   "execution_count": null,
   "metadata": {},
   "outputs": [],
   "source": [
    "def show_solution(Solution: State) -> None:\n",
    "    board = chess.Board(None)  # create empty chess board\n",
    "    queen = chess.Piece(chess.QUEEN, True)\n",
    "    for row in range(8):\n",
    "        col = Solution[row]\n",
    "        field_number = row * 8 + col\n",
    "        board.set_piece_at(field_number, queen)\n",
    "    display(board)"
   ]
  },
  {
   "cell_type": "markdown",
   "metadata": {},
   "source": [
    "Let us examine the first solution."
   ]
  },
  {
   "cell_type": "code",
   "execution_count": null,
   "metadata": {},
   "outputs": [],
   "source": [
    "S = gSolutions[0]\n",
    "S"
   ]
  },
  {
   "cell_type": "code",
   "execution_count": null,
   "metadata": {},
   "outputs": [],
   "source": [
    "show_solution(S)"
   ]
  },
  {
   "cell_type": "markdown",
   "metadata": {},
   "source": [
    "Let us display all 92 solutions."
   ]
  },
  {
   "cell_type": "code",
   "execution_count": null,
   "metadata": {
    "scrolled": false
   },
   "outputs": [],
   "source": [
    "for S in gSolutions:\n",
    "    show_solution(S)"
   ]
  },
  {
   "cell_type": "code",
   "execution_count": null,
   "metadata": {},
   "outputs": [],
   "source": []
  }
 ],
 "metadata": {
  "hide_input": false,
  "kernelspec": {
   "display_name": "Python 3 (ipykernel)",
   "language": "python",
   "name": "python3"
  },
  "language_info": {
   "codemirror_mode": {
    "name": "ipython",
    "version": 3
   },
   "file_extension": ".py",
   "mimetype": "text/x-python",
   "name": "python",
   "nbconvert_exporter": "python",
   "pygments_lexer": "ipython3",
   "version": "3.11.7"
  },
  "toc": {
   "base_numbering": 1,
   "nav_menu": {},
   "number_sections": true,
   "sideBar": true,
   "skip_h1_title": false,
   "title_cell": "Table of Contents",
   "title_sidebar": "Contents",
   "toc_cell": false,
   "toc_position": {},
   "toc_section_display": true,
   "toc_window_display": false
  },
  "varInspector": {
   "cols": {
    "lenName": 16,
    "lenType": 16,
    "lenVar": 40
   },
   "kernels_config": {
    "python": {
     "delete_cmd_postfix": "",
     "delete_cmd_prefix": "del ",
     "library": "var_list.py",
     "varRefreshCmd": "print(var_dic_list())"
    },
    "r": {
     "delete_cmd_postfix": ") ",
     "delete_cmd_prefix": "rm(",
     "library": "var_list.r",
     "varRefreshCmd": "cat(var_dic_list()) "
    }
   },
   "types_to_exclude": [
    "module",
    "function",
    "builtin_function_or_method",
    "instance",
    "_Feature"
   ],
   "window_display": false
  }
 },
 "nbformat": 4,
 "nbformat_minor": 2
}
